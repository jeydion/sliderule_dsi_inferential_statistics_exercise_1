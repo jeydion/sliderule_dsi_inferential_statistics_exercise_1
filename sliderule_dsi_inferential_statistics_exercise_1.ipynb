{
  "nbformat": 4,
  "nbformat_minor": 0,
  "metadata": {
    "colab": {
      "name": "sliderule_dsi_inferential_statistics_exercise_1.ipynb",
      "version": "0.3.2",
      "provenance": [],
      "collapsed_sections": [],
      "include_colab_link": true
    },
    "kernelspec": {
      "display_name": "Python 3",
      "language": "python",
      "name": "python3"
    }
  },
  "cells": [
    {
      "cell_type": "markdown",
      "metadata": {
        "id": "view-in-github",
        "colab_type": "text"
      },
      "source": [
        "<a href=\"https://colab.research.google.com/github/jeydion/sliderule_dsi_inferential_statistics_exercise_1/blob/master/sliderule_dsi_inferential_statistics_exercise_1.ipynb\" target=\"_parent\"><img src=\"https://colab.research.google.com/assets/colab-badge.svg\" alt=\"Open In Colab\"/></a>"
      ]
    },
    {
      "metadata": {
        "id": "5pjHNVa85pXf",
        "colab_type": "text"
      },
      "cell_type": "markdown",
      "source": [
        "# What is the True Normal Human Body Temperature? \n",
        "\n",
        "#### Background\n",
        "\n",
        "The mean normal body temperature was held to be 37$^{\\circ}$C or 98.6$^{\\circ}$F for more than 120 years since it was first conceptualized and reported by Carl Wunderlich in a famous 1868 book. But, is this value statistically correct?"
      ]
    },
    {
      "metadata": {
        "id": "zcMKQtqb5pXk",
        "colab_type": "text"
      },
      "cell_type": "markdown",
      "source": [
        "<h3>Exercises</h3>\n",
        "\n",
        "<p>In this exercise, you will analyze a dataset of human body temperatures and employ the concepts of hypothesis testing, confidence intervals, and statistical significance.</p>\n",
        "\n",
        "<p>Answer the following questions <b>in this notebook below and submit to your Github account</b>.</p> \n",
        "\n",
        "<ol>\n",
        "<li>  Is the distribution of body temperatures normal? \n",
        "    <ul>\n",
        "    <li> Although this is not a requirement for the Central Limit Theorem to hold (read the introduction on Wikipedia's page about the CLT carefully: https://en.wikipedia.org/wiki/Central_limit_theorem), it gives us some peace of mind that the population may also be normally distributed if we assume that this sample is representative of the population.\n",
        "    <li> Think about the way you're going to check for the normality of the distribution. Graphical methods are usually used first, but there are also other ways: https://en.wikipedia.org/wiki/Normality_test\n",
        "    </ul>\n",
        "<li>  Is the sample size large? Are the observations independent?\n",
        "    <ul>\n",
        "    <li> Remember that this is a condition for the Central Limit Theorem, and hence the statistical tests we are using, to apply.\n",
        "    </ul>\n",
        "<li>  Is the true population mean really 98.6 degrees F?\n",
        "    <ul>\n",
        "    <li> First, try a bootstrap hypothesis test.\n",
        "    <li> Now, let's try frequentist statistical testing. Would you use a one-sample or two-sample test? Why?\n",
        "    <li> In this situation, is it appropriate to use the $t$ or $z$ statistic? \n",
        "    <li> Now try using the other test. How is the result be different? Why?\n",
        "    </ul>\n",
        "<li>  Draw a small sample of size 10 from the data and repeat both frequentist tests. \n",
        "    <ul>\n",
        "    <li> Which one is the correct one to use? \n",
        "    <li> What do you notice? What does this tell you about the difference in application of the $t$ and $z$ statistic?\n",
        "    </ul>\n",
        "<li>  At what temperature should we consider someone's temperature to be \"abnormal\"?\n",
        "    <ul>\n",
        "    <li> As in the previous example, try calculating everything using the boostrap approach, as well as the frequentist approach.\n",
        "    <li> Start by computing the margin of error and confidence interval. When calculating the confidence interval, keep in mind that you should use the appropriate formula for one draw, and not N draws.\n",
        "    </ul>\n",
        "<li>  Is there a significant difference between males and females in normal temperature?\n",
        "    <ul>\n",
        "    <li> What testing approach did you use and why?\n",
        "    <li> Write a story with your conclusion in the context of the original problem.\n",
        "    </ul>\n",
        "</ol>\n",
        "\n",
        "You can include written notes in notebook cells using Markdown: \n",
        "   - In the control panel at the top, choose Cell > Cell Type > Markdown\n",
        "   - Markdown syntax: http://nestacms.com/docs/creating-content/markdown-cheat-sheet\n",
        "\n",
        "#### Resources\n",
        "\n",
        "+ Information and data sources: http://www.amstat.org/publications/jse/datasets/normtemp.txt, http://www.amstat.org/publications/jse/jse_data_archive.htm\n",
        "+ Markdown syntax: http://nestacms.com/docs/creating-content/markdown-cheat-sheet\n",
        "\n",
        "****"
      ]
    },
    {
      "metadata": {
        "id": "3ZJ7e1r_5pXm",
        "colab_type": "code",
        "colab": {}
      },
      "cell_type": "code",
      "source": [
        "import pandas as pd\n",
        "import numpy as np\n",
        "import matplotlib.pyplot as plt\n",
        "import scipy.stats as stats\n",
        "url = \"https://raw.githubusercontent.com/jeydion/sliderule_dsi_inferential_statistics_exercise_1/master/human_body_temperature.csv\"\n",
        "df = pd.read_csv(url)"
      ],
      "execution_count": 0,
      "outputs": []
    },
    {
      "metadata": {
        "scrolled": true,
        "id": "xY8D9yGr5pXx",
        "colab_type": "code",
        "colab": {
          "base_uri": "https://localhost:8080/",
          "height": 195
        },
        "outputId": "8d5d2440-e55b-4fdb-d957-d0e0d6f2a2af"
      },
      "cell_type": "code",
      "source": [
        "# Your work here.\n",
        "df.head()"
      ],
      "execution_count": 5,
      "outputs": [
        {
          "output_type": "execute_result",
          "data": {
            "text/html": [
              "<div>\n",
              "<style scoped>\n",
              "    .dataframe tbody tr th:only-of-type {\n",
              "        vertical-align: middle;\n",
              "    }\n",
              "\n",
              "    .dataframe tbody tr th {\n",
              "        vertical-align: top;\n",
              "    }\n",
              "\n",
              "    .dataframe thead th {\n",
              "        text-align: right;\n",
              "    }\n",
              "</style>\n",
              "<table border=\"1\" class=\"dataframe\">\n",
              "  <thead>\n",
              "    <tr style=\"text-align: right;\">\n",
              "      <th></th>\n",
              "      <th>temperature</th>\n",
              "      <th>gender</th>\n",
              "      <th>heart_rate</th>\n",
              "    </tr>\n",
              "  </thead>\n",
              "  <tbody>\n",
              "    <tr>\n",
              "      <th>0</th>\n",
              "      <td>99.3</td>\n",
              "      <td>F</td>\n",
              "      <td>68.0</td>\n",
              "    </tr>\n",
              "    <tr>\n",
              "      <th>1</th>\n",
              "      <td>98.4</td>\n",
              "      <td>F</td>\n",
              "      <td>81.0</td>\n",
              "    </tr>\n",
              "    <tr>\n",
              "      <th>2</th>\n",
              "      <td>97.8</td>\n",
              "      <td>M</td>\n",
              "      <td>73.0</td>\n",
              "    </tr>\n",
              "    <tr>\n",
              "      <th>3</th>\n",
              "      <td>99.2</td>\n",
              "      <td>F</td>\n",
              "      <td>66.0</td>\n",
              "    </tr>\n",
              "    <tr>\n",
              "      <th>4</th>\n",
              "      <td>98.0</td>\n",
              "      <td>F</td>\n",
              "      <td>73.0</td>\n",
              "    </tr>\n",
              "  </tbody>\n",
              "</table>\n",
              "</div>"
            ],
            "text/plain": [
              "   temperature gender  heart_rate\n",
              "0         99.3      F        68.0\n",
              "1         98.4      F        81.0\n",
              "2         97.8      M        73.0\n",
              "3         99.2      F        66.0\n",
              "4         98.0      F        73.0"
            ]
          },
          "metadata": {
            "tags": []
          },
          "execution_count": 5
        }
      ]
    },
    {
      "metadata": {
        "id": "kB_UXiKo5pX-",
        "colab_type": "text"
      },
      "cell_type": "markdown",
      "source": [
        "1.  Is the distribution of body temperatures normal? \n",
        "##Visual check with histogram\n",
        "\n",
        "<p><b>Answer</b> There seems to be a discrepancy between the visual normality check and the SciPy normal test check. Visually the distributions are not normal. However, when calculating using the p-test, the p-value fails to reject the null hypothesis, tpyically meaning the data is normally distributed. Since visually the data is not normally distributed I will conclude that the p-value is not accurate for this dataset. </p>"
      ]
    },
    {
      "metadata": {
        "id": "i9QQRbEg5pYB",
        "colab_type": "code",
        "colab": {
          "base_uri": "https://localhost:8080/",
          "height": 361
        },
        "outputId": "d0cb22f6-b655-4773-cc33-e85789bccfa0"
      },
      "cell_type": "code",
      "source": [
        "bt = df.temperature\n",
        "_ = plt.hist(bt, bins=20)\n",
        "_ = plt.xlabel('Body Temperature (F)')\n",
        "_ = plt.ylabel('# of people')\n",
        "plt.show()"
      ],
      "execution_count": 6,
      "outputs": [
        {
          "output_type": "display_data",
          "data": {
            "image/png": "[encoded data removed]",
            "text/plain": [
              "<Figure size 576x396 with 1 Axes>"
            ]
          },
          "metadata": {
            "tags": []
          }
        }
      ]
    },
    {
      "metadata": {
        "scrolled": true,
        "id": "DR5QiX2N5pYM",
        "colab_type": "code",
        "colab": {
          "base_uri": "https://localhost:8080/",
          "height": 195
        },
        "outputId": "b0fc1821-9804-4ed2-cfd9-2a89b39f9fef"
      },
      "cell_type": "code",
      "source": [
        "df_m = df[df['gender'] == 'M']\n",
        "df_m.head()"
      ],
      "execution_count": 7,
      "outputs": [
        {
          "output_type": "execute_result",
          "data": {
            "text/html": [
              "<div>\n",
              "<style scoped>\n",
              "    .dataframe tbody tr th:only-of-type {\n",
              "        vertical-align: middle;\n",
              "    }\n",
              "\n",
              "    .dataframe tbody tr th {\n",
              "        vertical-align: top;\n",
              "    }\n",
              "\n",
              "    .dataframe thead th {\n",
              "        text-align: right;\n",
              "    }\n",
              "</style>\n",
              "<table border=\"1\" class=\"dataframe\">\n",
              "  <thead>\n",
              "    <tr style=\"text-align: right;\">\n",
              "      <th></th>\n",
              "      <th>temperature</th>\n",
              "      <th>gender</th>\n",
              "      <th>heart_rate</th>\n",
              "    </tr>\n",
              "  </thead>\n",
              "  <tbody>\n",
              "    <tr>\n",
              "      <th>2</th>\n",
              "      <td>97.8</td>\n",
              "      <td>M</td>\n",
              "      <td>73.0</td>\n",
              "    </tr>\n",
              "    <tr>\n",
              "      <th>5</th>\n",
              "      <td>99.2</td>\n",
              "      <td>M</td>\n",
              "      <td>83.0</td>\n",
              "    </tr>\n",
              "    <tr>\n",
              "      <th>6</th>\n",
              "      <td>98.0</td>\n",
              "      <td>M</td>\n",
              "      <td>71.0</td>\n",
              "    </tr>\n",
              "    <tr>\n",
              "      <th>7</th>\n",
              "      <td>98.8</td>\n",
              "      <td>M</td>\n",
              "      <td>78.0</td>\n",
              "    </tr>\n",
              "    <tr>\n",
              "      <th>12</th>\n",
              "      <td>98.2</td>\n",
              "      <td>M</td>\n",
              "      <td>72.0</td>\n",
              "    </tr>\n",
              "  </tbody>\n",
              "</table>\n",
              "</div>"
            ],
            "text/plain": [
              "    temperature gender  heart_rate\n",
              "2          97.8      M        73.0\n",
              "5          99.2      M        83.0\n",
              "6          98.0      M        71.0\n",
              "7          98.8      M        78.0\n",
              "12         98.2      M        72.0"
            ]
          },
          "metadata": {
            "tags": []
          },
          "execution_count": 7
        }
      ]
    },
    {
      "metadata": {
        "id": "8n64kjhl5pYV",
        "colab_type": "code",
        "colab": {
          "base_uri": "https://localhost:8080/",
          "height": 195
        },
        "outputId": "93637928-5fc7-4b4e-e9c0-005f3a5979b2"
      },
      "cell_type": "code",
      "source": [
        "df_f = df[df['gender'] == 'F']\n",
        "df_f.head()"
      ],
      "execution_count": 8,
      "outputs": [
        {
          "output_type": "execute_result",
          "data": {
            "text/html": [
              "<div>\n",
              "<style scoped>\n",
              "    .dataframe tbody tr th:only-of-type {\n",
              "        vertical-align: middle;\n",
              "    }\n",
              "\n",
              "    .dataframe tbody tr th {\n",
              "        vertical-align: top;\n",
              "    }\n",
              "\n",
              "    .dataframe thead th {\n",
              "        text-align: right;\n",
              "    }\n",
              "</style>\n",
              "<table border=\"1\" class=\"dataframe\">\n",
              "  <thead>\n",
              "    <tr style=\"text-align: right;\">\n",
              "      <th></th>\n",
              "      <th>temperature</th>\n",
              "      <th>gender</th>\n",
              "      <th>heart_rate</th>\n",
              "    </tr>\n",
              "  </thead>\n",
              "  <tbody>\n",
              "    <tr>\n",
              "      <th>0</th>\n",
              "      <td>99.3</td>\n",
              "      <td>F</td>\n",
              "      <td>68.0</td>\n",
              "    </tr>\n",
              "    <tr>\n",
              "      <th>1</th>\n",
              "      <td>98.4</td>\n",
              "      <td>F</td>\n",
              "      <td>81.0</td>\n",
              "    </tr>\n",
              "    <tr>\n",
              "      <th>3</th>\n",
              "      <td>99.2</td>\n",
              "      <td>F</td>\n",
              "      <td>66.0</td>\n",
              "    </tr>\n",
              "    <tr>\n",
              "      <th>4</th>\n",
              "      <td>98.0</td>\n",
              "      <td>F</td>\n",
              "      <td>73.0</td>\n",
              "    </tr>\n",
              "    <tr>\n",
              "      <th>8</th>\n",
              "      <td>98.4</td>\n",
              "      <td>F</td>\n",
              "      <td>84.0</td>\n",
              "    </tr>\n",
              "  </tbody>\n",
              "</table>\n",
              "</div>"
            ],
            "text/plain": [
              "   temperature gender  heart_rate\n",
              "0         99.3      F        68.0\n",
              "1         98.4      F        81.0\n",
              "3         99.2      F        66.0\n",
              "4         98.0      F        73.0\n",
              "8         98.4      F        84.0"
            ]
          },
          "metadata": {
            "tags": []
          },
          "execution_count": 8
        }
      ]
    },
    {
      "metadata": {
        "id": "Y7LJNjNN5pYd",
        "colab_type": "code",
        "colab": {
          "base_uri": "https://localhost:8080/",
          "height": 361
        },
        "outputId": "d773ba75-08ab-4ad6-efcf-d370848a0e0f"
      },
      "cell_type": "code",
      "source": [
        "_ = plt.hist(df_m.temperature, bins=20)\n",
        "_ = plt.xlabel('Body Temperature (F)')\n",
        "_ = plt.ylabel('# of people')\n",
        "plt.show()"
      ],
      "execution_count": 9,
      "outputs": [
        {
          "output_type": "display_data",
          "data": {
            "image/png": "[encoded data removed]",
            "text/plain": [
              "<Figure size 576x396 with 1 Axes>"
            ]
          },
          "metadata": {
            "tags": []
          }
        }
      ]
    },
    {
      "metadata": {
        "id": "MGpyDW7J5pYl",
        "colab_type": "code",
        "colab": {
          "base_uri": "https://localhost:8080/",
          "height": 361
        },
        "outputId": "f018a824-27b3-4e57-a2c4-898e88d288cb"
      },
      "cell_type": "code",
      "source": [
        "_ = plt.hist(df_f.temperature, bins=20)\n",
        "_ = plt.xlabel('Body Temperature (F)')\n",
        "_ = plt.ylabel('# of people')\n",
        "plt.show()"
      ],
      "execution_count": 10,
      "outputs": [
        {
          "output_type": "display_data",
          "data": {
            "image/png": "[encoded data removed]",
            "text/plain": [
              "<Figure size 576x396 with 1 Axes>"
            ]
          },
          "metadata": {
            "tags": []
          }
        }
      ]
    },
    {
      "metadata": {
        "id": "XHr8koJU5pYt",
        "colab_type": "text"
      },
      "cell_type": "markdown",
      "source": [
        "Graphically, the body temperatures are not normally distributed. Even after sorting the temperatures by gender, they are not normally distributed. Below I will use scipy to numerically check for normality"
      ]
    },
    {
      "metadata": {
        "id": "c7cV7bCL5pYw",
        "colab_type": "code",
        "colab": {}
      },
      "cell_type": "code",
      "source": [
        "#all temperatures\n",
        "def check_normal(col):\n",
        "    alpha = 0.05\n",
        "    stat, p = stats.normaltest(col)\n",
        "    print('Statistics=%.3f, p=%.3f' % (stat, p))\n",
        "    if (p > alpha):\n",
        "        print('Fail to reject null hypothesis. Distribution is normal.')\n",
        "    else:\n",
        "        print('Reject the null hypothesis. Distribution is not normal.')"
      ],
      "execution_count": 0,
      "outputs": []
    },
    {
      "metadata": {
        "id": "9AYWofoS5pY3",
        "colab_type": "code",
        "colab": {
          "base_uri": "https://localhost:8080/",
          "height": 52
        },
        "outputId": "459f7d53-70d6-4712-c168-f416f7d3346f"
      },
      "cell_type": "code",
      "source": [
        "check_normal(bt)"
      ],
      "execution_count": 12,
      "outputs": [
        {
          "output_type": "stream",
          "text": [
            "Statistics=2.704, p=0.259\n",
            "Fail to reject null hypothesis. Distribution is normal.\n"
          ],
          "name": "stdout"
        }
      ]
    },
    {
      "metadata": {
        "id": "y2q3BL1E5pY_",
        "colab_type": "code",
        "colab": {
          "base_uri": "https://localhost:8080/",
          "height": 52
        },
        "outputId": "5f4cb7a5-03f1-4a06-a708-68a2daf6e87d"
      },
      "cell_type": "code",
      "source": [
        "check_normal(df_m.temperature)"
      ],
      "execution_count": 13,
      "outputs": [
        {
          "output_type": "stream",
          "text": [
            "Statistics=0.891, p=0.640\n",
            "Fail to reject null hypothesis. Distribution is normal.\n"
          ],
          "name": "stdout"
        }
      ]
    },
    {
      "metadata": {
        "id": "kpqiZllZ5pZJ",
        "colab_type": "code",
        "colab": {
          "base_uri": "https://localhost:8080/",
          "height": 52
        },
        "outputId": "8d9d8265-a5c3-408f-bf70-7826f7074fb3"
      },
      "cell_type": "code",
      "source": [
        "check_normal(df_f.temperature)"
      ],
      "execution_count": 14,
      "outputs": [
        {
          "output_type": "stream",
          "text": [
            "Statistics=4.735, p=0.094\n",
            "Fail to reject null hypothesis. Distribution is normal.\n"
          ],
          "name": "stdout"
        }
      ]
    },
    {
      "metadata": {
        "id": "Nn_Jc05J5pZS",
        "colab_type": "text"
      },
      "cell_type": "markdown",
      "source": [
        "2. Is the dataset large? Are the variables independent?\n",
        "\n",
        "<p><b>Answer</b> The dataset isn't very large considering there are only 130 samples; split evenly between male and female. Since p is very close to zero, the null hypothesis has failed to be rejected and the variables are independent.</p>"
      ]
    },
    {
      "metadata": {
        "id": "5bOsS6ff5pZW",
        "colab_type": "code",
        "colab": {
          "base_uri": "https://localhost:8080/",
          "height": 158
        },
        "outputId": "03e8b55c-5b07-4cae-c589-28b551f61797"
      },
      "cell_type": "code",
      "source": [
        "df.info()"
      ],
      "execution_count": 15,
      "outputs": [
        {
          "output_type": "stream",
          "text": [
            "<class 'pandas.core.frame.DataFrame'>\n",
            "RangeIndex: 130 entries, 0 to 129\n",
            "Data columns (total 3 columns):\n",
            "temperature    130 non-null float64\n",
            "gender         130 non-null object\n",
            "heart_rate     130 non-null float64\n",
            "dtypes: float64(2), object(1)\n",
            "memory usage: 3.1+ KB\n"
          ],
          "name": "stdout"
        }
      ]
    },
    {
      "metadata": {
        "id": "yF5SWEmg5pZi",
        "colab_type": "code",
        "colab": {
          "base_uri": "https://localhost:8080/",
          "height": 34
        },
        "outputId": "850ead3c-daf9-40d9-8c61-3528dde324e6"
      },
      "cell_type": "code",
      "source": [
        "# Pearson r test to check for variable independence between temperature and heart rate\n",
        "temp = df.temperature\n",
        "hr = df.heart_rate\n",
        "gender = df.gender\n",
        "corr, p = stats.pearsonr(temp, hr)\n",
        "print(corr, p)"
      ],
      "execution_count": 16,
      "outputs": [
        {
          "output_type": "stream",
          "text": [
            "0.2536564027207642 0.003591489250708233\n"
          ],
          "name": "stdout"
        }
      ]
    },
    {
      "metadata": {
        "id": "gqkU7fQq5pZ_",
        "colab_type": "code",
        "colab": {
          "base_uri": "https://localhost:8080/",
          "height": 361
        },
        "outputId": "d29d7f40-e7f0-4d6d-acdf-3646a1701f5d"
      },
      "cell_type": "code",
      "source": [
        "_ = plt.plot(temp, hr, marker='.', linestyle='none')\n",
        "_ = plt.xlabel('Body Temperature (F)')\n",
        "_ = plt.ylabel('Heart Rate')\n",
        "plt.show()"
      ],
      "execution_count": 17,
      "outputs": [
        {
          "output_type": "display_data",
          "data": {
            "image/png": "[encoded data removed]",
            "text/plain": [
              "<Figure size 576x396 with 1 Axes>"
            ]
          },
          "metadata": {
            "tags": []
          }
        }
      ]
    },
    {
      "metadata": {
        "id": "vNHS4Hgu5paV",
        "colab_type": "text"
      },
      "cell_type": "markdown",
      "source": [
        "3. Is the true population mean really 98.6 degrees F?\n",
        "    <ul>\n",
        "    <li> First, try a bootstrap hypothesis test.\n",
        "    <li> Now, let's try frequentist statistical testing. Would you use a one-sample or two-sample test? Why?\n",
        "    <li> In this situation, is it appropriate to use the $t$ or $z$ statistic? \n",
        "    <li> Now try using the other test. How is the result be different? Why?\n",
        "    </ul>\n",
        "      <b>Answer</b> The first bootstrap hypothesis test failed to reject the null hypothesis. After using frequentist statistical testing, the null hypothsis is rejected. One-sample test was used since we are comparing the perceived true population mean of 98.6 to the dataset mean of 98.25. Since the male and female samples are equal in count, I did not run a two-sample test. I used a t-test because we are comparing the known means of body temperature between the unknown true population dataset and the known provided dataset. Z-test was not done because the standard deviation of the true population is not known. When the z-score is calculated, the number is 5.48 which is well beyond the range of z-scores. This further suggests that the distribution is not normal. "
      ]
    },
    {
      "metadata": {
        "id": "UWYA2k255pab",
        "colab_type": "code",
        "colab": {
          "base_uri": "https://localhost:8080/",
          "height": 34
        },
        "outputId": "4b9525fd-2b2c-4f8f-cbd2-1ed7a3fa313b"
      },
      "cell_type": "code",
      "source": [
        "# Null Hypothesis: True population mean is 98.6 degrees\n",
        "# Test Statistic: temp (body temperature column)\n",
        "np.mean(temp)"
      ],
      "execution_count": 18,
      "outputs": [
        {
          "output_type": "execute_result",
          "data": {
            "text/plain": [
              "98.24923076923078"
            ]
          },
          "metadata": {
            "tags": []
          },
          "execution_count": 18
        }
      ]
    },
    {
      "metadata": {
        "id": "_G0YkXEc5pat",
        "colab_type": "code",
        "colab": {
          "base_uri": "https://localhost:8080/",
          "height": 34
        },
        "outputId": "3884e7ee-fe9c-4bcf-f926-6586871fb08c"
      },
      "cell_type": "code",
      "source": [
        "temp_m = df_m.temperature\n",
        "np.mean(temp_m)\n"
      ],
      "execution_count": 19,
      "outputs": [
        {
          "output_type": "execute_result",
          "data": {
            "text/plain": [
              "98.1046153846154"
            ]
          },
          "metadata": {
            "tags": []
          },
          "execution_count": 19
        }
      ]
    },
    {
      "metadata": {
        "id": "7Uoyn5115pa-",
        "colab_type": "code",
        "colab": {
          "base_uri": "https://localhost:8080/",
          "height": 34
        },
        "outputId": "060fb899-ade5-4b3d-9d93-86668aad1418"
      },
      "cell_type": "code",
      "source": [
        "temp_f = df_f.temperature\n",
        "np.mean(temp_f)"
      ],
      "execution_count": 20,
      "outputs": [
        {
          "output_type": "execute_result",
          "data": {
            "text/plain": [
              "98.39384615384613"
            ]
          },
          "metadata": {
            "tags": []
          },
          "execution_count": 20
        }
      ]
    },
    {
      "metadata": {
        "id": "JsF4Jehj5pbS",
        "colab_type": "code",
        "colab": {}
      },
      "cell_type": "code",
      "source": [
        "def ecdf(data):\n",
        "    \"\"\"Compute ECDF for a one-dimensional array of measurements.\"\"\"\n",
        "    # Number of data points: n\n",
        "    n = len(data)\n",
        "\n",
        "    # x-data for the ECDF: x\n",
        "    x = np.sort(data)\n",
        "\n",
        "    # y-data for the ECDF: y\n",
        "    y = np.arange(1, n+1) / n\n",
        "\n",
        "    return x, y"
      ],
      "execution_count": 0,
      "outputs": []
    },
    {
      "metadata": {
        "id": "60nswHSo5pbc",
        "colab_type": "code",
        "colab": {
          "base_uri": "https://localhost:8080/",
          "height": 691
        },
        "outputId": "02358a46-6ff3-4180-8d35-7cb5e84b67b3"
      },
      "cell_type": "code",
      "source": [
        "def bt_bs_draw(temp):\n",
        "    for _ in range(130):\n",
        "    # Generate bootstrap sample: bs_sample\n",
        "        bs_sample = np.random.choice(temp, size=len(temp))\n",
        "    # Compute and plot ECDF from bootstrap sample\n",
        "        x, y = ecdf(bs_sample)\n",
        "        _ = plt.plot(x, y, marker='.', linestyle='none',\n",
        "                 color='gray', alpha=0.1)\n",
        "\n",
        "# Compute and plot ECDF from original data\n",
        "x, y = ecdf(temp)\n",
        "_ = plt.plot(x, y, marker='.')\n",
        "\n",
        "# Make margins and label axes\n",
        "plt.margins(0.02)\n",
        "_ = plt.xlabel('Body Temperature (F)')\n",
        "_ = plt.ylabel('ECDF')\n",
        "\n",
        "# Show the plot\n",
        "plt.show()\n",
        "bt_bs_draw(temp)"
      ],
      "execution_count": 22,
      "outputs": [
        {
          "output_type": "display_data",
          "data": {
            "image/png": "[encoded data removed]",
            "text/plain": [
              "<Figure size 576x396 with 1 Axes>"
            ]
          },
          "metadata": {
            "tags": []
          }
        },
        {
          "output_type": "display_data",
          "data": {
            "image/png": "[encoded data removed]",
            "text/plain": [
              "<Figure size 576x396 with 1 Axes>"
            ]
          },
          "metadata": {
            "tags": []
          }
        }
      ]
    },
    {
      "metadata": {
        "id": "Kr1kgLFh5pbr",
        "colab_type": "code",
        "colab": {}
      },
      "cell_type": "code",
      "source": [
        "# define function that makes bootstraps replicates from data\n",
        "\n",
        "def bootstrap_replicate_1d(data, func):\n",
        "    return func(np.random.choice(data, size=len(data)))"
      ],
      "execution_count": 0,
      "outputs": []
    },
    {
      "metadata": {
        "id": "RbeA69095pb2",
        "colab_type": "code",
        "colab": {}
      },
      "cell_type": "code",
      "source": [
        "def draw_bs_reps(data, func, size=1):\n",
        "    \"\"\"Draw bootstrap replicates.\"\"\"\n",
        "\n",
        "    # Initialize array of replicates: bs_replicates\n",
        "    bs_replicates = np.empty(size)\n",
        "\n",
        "    # Generate replicates\n",
        "    for i in range(size):\n",
        "        bs_replicates[i] = bootstrap_replicate_1d(data, func)\n",
        "\n",
        "    return bs_replicates"
      ],
      "execution_count": 0,
      "outputs": []
    },
    {
      "metadata": {
        "id": "8-4lulWS5pcG",
        "colab_type": "code",
        "colab": {
          "base_uri": "https://localhost:8080/",
          "height": 52
        },
        "outputId": "1f141a8b-ce78-468c-97f9-b6b2b8fae473"
      },
      "cell_type": "code",
      "source": [
        "# One-sample t test will be used since only the temperature is being compared to 98.6. \n",
        "\n",
        "#translate temp array such that its mean is 98.6\n",
        "translated_temp = temp - np.mean(temp) + 98.6\n",
        "\n",
        "# Take bootstrap replicates of translated temp array\n",
        "temp_replicates = draw_bs_reps(translated_temp, np.mean, 130)\n",
        "\n",
        "# Compute fraction of replicates that are less than the observed Frog B force: p\n",
        "p = np.sum(temp_replicates <= np.mean(temp)) / 130\n",
        "\n",
        "# Print the p-value\n",
        "print('p=%.3f' % p)\n",
        "if (p > 0.05):\n",
        "    print('Fail to reject null hypothesis')\n",
        "else:\n",
        "    print('Reject null hypothesis' )\n"
      ],
      "execution_count": 25,
      "outputs": [
        {
          "output_type": "stream",
          "text": [
            "p=0.000\n",
            "Reject null hypothesis\n"
          ],
          "name": "stdout"
        }
      ]
    },
    {
      "metadata": {
        "id": "pTBp6Oq1BpQb",
        "colab_type": "code",
        "colab": {
          "base_uri": "https://localhost:8080/",
          "height": 52
        },
        "outputId": "8b1dc162-a526-4762-962a-81f9ef5de4a6"
      },
      "cell_type": "code",
      "source": [
        "#Population standard deviation\n",
        "pop_std = np.std(temp) / np.sqrt(130)\n",
        "print('poplation standard deviation', pop_std)\n",
        "z_score = (98.6 - np.mean(temp)) / pop_std\n",
        "print('z-score', z_score)"
      ],
      "execution_count": 45,
      "outputs": [
        {
          "output_type": "stream",
          "text": [
            "poplation standard deviation 0.06405661469519336\n",
            "z-score 5.475925202078116\n"
          ],
          "name": "stdout"
        }
      ]
    },
    {
      "metadata": {
        "id": "CwqcNlqcBped",
        "colab_type": "code",
        "colab": {}
      },
      "cell_type": "code",
      "source": [
        ""
      ],
      "execution_count": 0,
      "outputs": []
    },
    {
      "metadata": {
        "id": "6EFEMM0o5pco",
        "colab_type": "text"
      },
      "cell_type": "markdown",
      "source": [
        "4. Draw a small sample of size 10 from the data and repeat both frequentist tests. \n",
        "    <ul>\n",
        "    <li> Which one is the correct one to use? \n",
        "    <li> What do you notice? What does this tell you about the difference in application of the $t$ and $z$ statistic?\n",
        "    </ul>\n",
        "    <p><b>Answer </b> The results are the same with a smaller sample. Since t-tests work best with small samples, this only reaffirms the results that were found in Question 3. Z-test is still not appropriate because the standard deviation of the population is not known, as well as the dataset provided is not enough of the population to give a good comparision. </p>"
      ]
    },
    {
      "metadata": {
        "id": "eDd60mO_5pcr",
        "colab_type": "text"
      },
      "cell_type": "markdown",
      "source": [
        "5. At what temperature should we consider someone's temperature to be \"abnormal\"?\n",
        "    <ul>\n",
        "    <li> As in the previous example, try calculating everything using the boostrap approach, as well as the frequentist approach.\n",
        "    <li> Start by computing the margin of error and confidence interval. When calculating the confidence interval, keep in mind that you should use the appropriate formula for one draw, and not N draws.\n",
        "    </ul>\n",
        "    <p><b>Answer</b> The rule of thumb for outliers would be 1.5 of the mean. This would be the 'abnormal' body temperature. Any temperature above and below the following confidence interval will be 'abnormal' body temperature according the dataset. The confidence interval will be [97.52, 98.99] with standard margin of error is 0.06. \n"
      ]
    },
    {
      "metadata": {
        "id": "OZiG858X5pcy",
        "colab_type": "code",
        "colab": {
          "base_uri": "https://localhost:8080/",
          "height": 363
        },
        "outputId": "3b2009ed-eb92-4334-856f-5a50f40fa56b"
      },
      "cell_type": "code",
      "source": [
        "_ = plt.boxplot(temp)\n",
        "_ = plt.xlabel('Sample Size of 130')\n",
        "_ = plt.ylabel('Body Temperature(F)')\n",
        "plt.show()"
      ],
      "execution_count": 46,
      "outputs": [
        {
          "output_type": "display_data",
          "data": {
            "image/png": "[encoded data removed]",
            "text/plain": [
              "<Figure size 576x396 with 1 Axes>"
            ]
          },
          "metadata": {
            "tags": []
          }
        }
      ]
    },
    {
      "metadata": {
        "id": "Uk4NVxex2wRY",
        "colab_type": "code",
        "colab": {
          "base_uri": "https://localhost:8080/",
          "height": 34
        },
        "outputId": "116e9249-1b4a-4959-fa1d-7288a12aeddf"
      },
      "cell_type": "code",
      "source": [
        "temp_mean = np.mean(temp)\n",
        "print('Mean of Body Temperature=' + str(temp_mean))"
      ],
      "execution_count": 32,
      "outputs": [
        {
          "output_type": "stream",
          "text": [
            "Mean of Body Temperature=98.24923076923078\n"
          ],
          "name": "stdout"
        }
      ]
    },
    {
      "metadata": {
        "id": "XxB2Wp0l4KEv",
        "colab_type": "code",
        "colab": {
          "base_uri": "https://localhost:8080/",
          "height": 34
        },
        "outputId": "5c4a4d7e-efb4-4031-b2e7-05d93325de5f"
      },
      "cell_type": "code",
      "source": [
        "temp_std = np.std(temp)\n",
        "print('Standard Deviation of Body Temperature=' + str(temp_std))"
      ],
      "execution_count": 33,
      "outputs": [
        {
          "output_type": "stream",
          "text": [
            "Standard Deviation of Body Temperature=0.7303577789050377\n"
          ],
          "name": "stdout"
        }
      ]
    },
    {
      "metadata": {
        "id": "EzzFzcGZ4PPs",
        "colab_type": "text"
      },
      "cell_type": "markdown",
      "source": [
        "Any temperature above and below the following confidence interval will be 'abnormal' body temperature according the dataset. The confidence interval will be [97.52, 98.99] with standard margin of error is 0.06. \n",
        "\n"
      ]
    },
    {
      "metadata": {
        "id": "mx7H3eFq5lkA",
        "colab_type": "code",
        "colab": {
          "base_uri": "https://localhost:8080/",
          "height": 34
        },
        "outputId": "afdc2880-9cf4-412c-f481-49dcf072b56b"
      },
      "cell_type": "code",
      "source": [
        "lower_bound = temp_mean - temp_std\n",
        "lower_bound"
      ],
      "execution_count": 35,
      "outputs": [
        {
          "output_type": "execute_result",
          "data": {
            "text/plain": [
              "97.51887299032575"
            ]
          },
          "metadata": {
            "tags": []
          },
          "execution_count": 35
        }
      ]
    },
    {
      "metadata": {
        "id": "o2BuZ9684PdG",
        "colab_type": "code",
        "colab": {
          "base_uri": "https://localhost:8080/",
          "height": 34
        },
        "outputId": "4f1f2fad-8098-45a4-d074-8180193c035a"
      },
      "cell_type": "code",
      "source": [
        "upper_bound = temp_mean + temp_std\n",
        "upper_bound"
      ],
      "execution_count": 36,
      "outputs": [
        {
          "output_type": "execute_result",
          "data": {
            "text/plain": [
              "98.97958854813581"
            ]
          },
          "metadata": {
            "tags": []
          },
          "execution_count": 36
        }
      ]
    },
    {
      "metadata": {
        "id": "e58Tch7M4QF8",
        "colab_type": "code",
        "colab": {
          "base_uri": "https://localhost:8080/",
          "height": 34
        },
        "outputId": "749874ae-14ec-4f61-f82d-2145e400ec06"
      },
      "cell_type": "code",
      "source": [
        "temp_sem = temp_std / np.sqrt(130)\n",
        "temp_sem"
      ],
      "execution_count": 38,
      "outputs": [
        {
          "output_type": "execute_result",
          "data": {
            "text/plain": [
              "0.06405661469519336"
            ]
          },
          "metadata": {
            "tags": []
          },
          "execution_count": 38
        }
      ]
    },
    {
      "metadata": {
        "id": "IyOfk0Y34QCe",
        "colab_type": "text"
      },
      "cell_type": "markdown",
      "source": [
        "**6**. Is there a significant difference between males and females in normal temperature?\n",
        "    <ul>\n",
        "    <li> What testing approach did you use and why?\n",
        "    <li> Write a story with your conclusion in the context of the original problem.\n",
        "    </ul>\n",
        "</ol>\n",
        "<p><b>Answer</b> Based on comparisons from above, there isn't significant change between the male and female in normal temperature. Mean values for both male and female are well within the confidence interval. I took the frequentist approach by comparing the means of both groups to the dataset mean and standard deviation. Based on the statistical analyses, I believe that the dataset that was used for this exercise was not large enough in either quantity or cross-sectionality. Neither male or female data was normally distributed and the sample size of each were so small, compared to the population from which this data represents. I would insist on more data from the source. I further claim that with a larger dataset the body temperature distribution would approach normality. "
      ]
    },
    {
      "metadata": {
        "id": "r7OZuU144PM5",
        "colab_type": "code",
        "colab": {
          "base_uri": "https://localhost:8080/",
          "height": 34
        },
        "outputId": "1355973f-008f-410a-ffa6-db48f60643df"
      },
      "cell_type": "code",
      "source": [
        "temp_m_mean = np.mean(temp_m)\n",
        "temp_f_mean = np.mean(temp_f)\n",
        "print('Male mean body temp= %.2f Female mean body temp= %.2f' % (temp_m_mean, temp_f_mean))"
      ],
      "execution_count": 48,
      "outputs": [
        {
          "output_type": "stream",
          "text": [
            "Male mean body temp= 98.10 Female mean body temp= 98.39\n"
          ],
          "name": "stdout"
        }
      ]
    },
    {
      "metadata": {
        "id": "8mi0s78v4PJZ",
        "colab_type": "code",
        "colab": {}
      },
      "cell_type": "code",
      "source": [
        ""
      ],
      "execution_count": 0,
      "outputs": []
    },
    {
      "metadata": {
        "id": "ZL2USQGb4PF2",
        "colab_type": "code",
        "colab": {}
      },
      "cell_type": "code",
      "source": [
        ""
      ],
      "execution_count": 0,
      "outputs": []
    },
    {
      "metadata": {
        "id": "MMvwtF5g4PC3",
        "colab_type": "code",
        "colab": {}
      },
      "cell_type": "code",
      "source": [
        ""
      ],
      "execution_count": 0,
      "outputs": []
    },
    {
      "metadata": {
        "id": "t_WzqASb4O_q",
        "colab_type": "code",
        "colab": {}
      },
      "cell_type": "code",
      "source": [
        ""
      ],
      "execution_count": 0,
      "outputs": []
    }
  ]
}